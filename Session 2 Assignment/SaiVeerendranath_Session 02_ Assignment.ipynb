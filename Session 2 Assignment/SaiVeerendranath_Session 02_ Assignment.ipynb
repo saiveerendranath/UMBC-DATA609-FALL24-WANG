{
 "cells": [
  {
   "cell_type": "markdown",
   "metadata": {
    "colab_type": "text",
    "id": "view-in-github"
   },
   "source": [
    "<a href=\"https://colab.research.google.com/github/wcj365/python-stats-dataviz/blob/master/fall2024/session_02.ipynb\" target=\"_parent\"><img src=\"https://colab.research.google.com/assets/colab-badge.svg\" alt=\"Open In Colab\"/></a>"
   ]
  },
  {
   "cell_type": "markdown",
   "metadata": {
    "id": "MLwxpbb8Y4-U"
   },
   "source": [
    "# UMBC Data 690 Fall 2024\n",
    "\n",
    "## Session 02"
   ]
  },
  {
   "cell_type": "code",
   "execution_count": 1,
   "metadata": {
    "id": "jwAKrvxWYuf7"
   },
   "outputs": [],
   "source": [
    "import pandas as pd\n",
    "\n",
    "DATA_URL = \"https://raw.githubusercontent.com/wcj365/python-stats-dataviz/master/fall2024/survey/UMBC%20DATA%20690%20FALL%202024%20DR%20WANG%20Student%20Survey.csv\""
   ]
  },
  {
   "cell_type": "markdown",
   "metadata": {
    "id": "N6ZjSdPKc0cv"
   },
   "source": [
    "## Step 1 - Load the Survey Response Data and Explore"
   ]
  },
  {
   "cell_type": "code",
   "execution_count": 2,
   "metadata": {
    "colab": {
     "base_uri": "https://localhost:8080/"
    },
    "id": "BeLNhTIHZ0UE",
    "outputId": "bc0ffc43-0652-444b-ccc5-3393c80f6d2e"
   },
   "outputs": [
    {
     "data": {
      "text/plain": [
       "(21, 13)"
      ]
     },
     "execution_count": 2,
     "metadata": {},
     "output_type": "execute_result"
    }
   ],
   "source": [
    "df = pd.read_csv(DATA_URL)\n",
    "\n",
    "df.shape"
   ]
  },
  {
   "cell_type": "code",
   "execution_count": 3,
   "metadata": {
    "colab": {
     "base_uri": "https://localhost:8080/",
     "height": 657
    },
    "id": "fPmMSIBOaCI0",
    "outputId": "b13768cf-51d8-4c3c-9520-0efa72a647f3"
   },
   "outputs": [
    {
     "data": {
      "text/html": [
       "<div>\n",
       "<style scoped>\n",
       "    .dataframe tbody tr th:only-of-type {\n",
       "        vertical-align: middle;\n",
       "    }\n",
       "\n",
       "    .dataframe tbody tr th {\n",
       "        vertical-align: top;\n",
       "    }\n",
       "\n",
       "    .dataframe thead th {\n",
       "        text-align: right;\n",
       "    }\n",
       "</style>\n",
       "<table border=\"1\" class=\"dataframe\">\n",
       "  <thead>\n",
       "    <tr style=\"text-align: right;\">\n",
       "      <th></th>\n",
       "      <th>Timestamp</th>\n",
       "      <th>1. My primary educational background</th>\n",
       "      <th>2. My primary job function</th>\n",
       "      <th>3. My level of computer programing knowledge</th>\n",
       "      <th>4. My level of Python progrmming knowledge</th>\n",
       "      <th>5. My level of Statistics knowledge</th>\n",
       "      <th>6. My Familarity with GitHub</th>\n",
       "      <th>7. My gender</th>\n",
       "      <th>8. My Birth Year</th>\n",
       "      <th>9. What do you enjoy doing in your leisure time?</th>\n",
       "      <th>10. What do you expect to get out of this course?</th>\n",
       "      <th>11. What is your long-term career goal?</th>\n",
       "      <th>12. Other courses taking this semester</th>\n",
       "    </tr>\n",
       "  </thead>\n",
       "  <tbody>\n",
       "    <tr>\n",
       "      <th>0</th>\n",
       "      <td>2024/08/18 8:33:50 PM AST</td>\n",
       "      <td>STEM (Science, Technology, Engineering, Math)</td>\n",
       "      <td>Full-time Student</td>\n",
       "      <td>Intermediate</td>\n",
       "      <td>Intermediate</td>\n",
       "      <td>Intermediate</td>\n",
       "      <td>I use GitHub occasionally</td>\n",
       "      <td>Male</td>\n",
       "      <td>2000</td>\n",
       "      <td>Use to do some personal projects</td>\n",
       "      <td>Data analysis with proper visuals</td>\n",
       "      <td>I want to become a developer</td>\n",
       "      <td>HIT 664 : HEALTH IT LAW AND ETHICS , HEALTH 72...</td>\n",
       "    </tr>\n",
       "    <tr>\n",
       "      <th>1</th>\n",
       "      <td>2024/08/18 8:33:54 PM AST</td>\n",
       "      <td>STEM (Science, Technology, Engineering, Math)</td>\n",
       "      <td>Full-time Student</td>\n",
       "      <td>Intermediate</td>\n",
       "      <td>Intermediate</td>\n",
       "      <td>Intermediate</td>\n",
       "      <td>I use GitHub occasionally</td>\n",
       "      <td>Male</td>\n",
       "      <td>2002</td>\n",
       "      <td>Playing Cricket</td>\n",
       "      <td>To get good knowledge about statistics , data ...</td>\n",
       "      <td>Try to start my own business.</td>\n",
       "      <td>HIT 664 - Health IT Law And Ethics  ; HIT 723 ...</td>\n",
       "    </tr>\n",
       "    <tr>\n",
       "      <th>2</th>\n",
       "      <td>2024/08/19 10:33:47 AM AST</td>\n",
       "      <td>STEM (Science, Technology, Engineering, Math)</td>\n",
       "      <td>Full-time Student</td>\n",
       "      <td>Intermediate</td>\n",
       "      <td>Intermediate</td>\n",
       "      <td>Intermediate</td>\n",
       "      <td>I use GitHub regularly</td>\n",
       "      <td>Male</td>\n",
       "      <td>1997</td>\n",
       "      <td>Doing courses and leveling up my knowledge in ...</td>\n",
       "      <td>I would expect to learn statistics concepts wi...</td>\n",
       "      <td>My aim is to become a Data Engineer and  Data ...</td>\n",
       "      <td>Deep Learning and LLM</td>\n",
       "    </tr>\n",
       "    <tr>\n",
       "      <th>3</th>\n",
       "      <td>2024/08/19 12:38:37 PM AST</td>\n",
       "      <td>STEM (Science, Technology, Engineering, Math)</td>\n",
       "      <td>Technology/engineering-oriented</td>\n",
       "      <td>Intermediate</td>\n",
       "      <td>Intermediate</td>\n",
       "      <td>Intermediate</td>\n",
       "      <td>I use GitHub occasionally</td>\n",
       "      <td>Female</td>\n",
       "      <td>7/21/1999</td>\n",
       "      <td>Surfing google</td>\n",
       "      <td>Get knowledge on statistics, perform data anal...</td>\n",
       "      <td>Be well suited for Data Science position</td>\n",
       "      <td>This is my last semester and is the only cours...</td>\n",
       "    </tr>\n",
       "    <tr>\n",
       "      <th>4</th>\n",
       "      <td>2024/08/22 3:05:13 AM AST</td>\n",
       "      <td>STEM (Science, Technology, Engineering, Math)</td>\n",
       "      <td>Full-time Student</td>\n",
       "      <td>Intermediate</td>\n",
       "      <td>Intermediate</td>\n",
       "      <td>Beginner</td>\n",
       "      <td>I use GitHub regularly</td>\n",
       "      <td>Male</td>\n",
       "      <td>2000</td>\n",
       "      <td>I like to study movies</td>\n",
       "      <td>I want to be good enough in Python by the end ...</td>\n",
       "      <td>I would like see myself solving daily problems...</td>\n",
       "      <td>ENMG 659 Strategic Management and ENMG 668 Pro...</td>\n",
       "    </tr>\n",
       "  </tbody>\n",
       "</table>\n",
       "</div>"
      ],
      "text/plain": [
       "                    Timestamp           1. My primary educational background  \\\n",
       "0   2024/08/18 8:33:50 PM AST  STEM (Science, Technology, Engineering, Math)   \n",
       "1   2024/08/18 8:33:54 PM AST  STEM (Science, Technology, Engineering, Math)   \n",
       "2  2024/08/19 10:33:47 AM AST  STEM (Science, Technology, Engineering, Math)   \n",
       "3  2024/08/19 12:38:37 PM AST  STEM (Science, Technology, Engineering, Math)   \n",
       "4   2024/08/22 3:05:13 AM AST  STEM (Science, Technology, Engineering, Math)   \n",
       "\n",
       "        2. My primary job function  \\\n",
       "0                Full-time Student   \n",
       "1                Full-time Student   \n",
       "2                Full-time Student   \n",
       "3  Technology/engineering-oriented   \n",
       "4                Full-time Student   \n",
       "\n",
       "  3. My level of computer programing knowledge  \\\n",
       "0                                 Intermediate   \n",
       "1                                 Intermediate   \n",
       "2                                 Intermediate   \n",
       "3                                 Intermediate   \n",
       "4                                 Intermediate   \n",
       "\n",
       "  4. My level of Python progrmming knowledge  \\\n",
       "0                               Intermediate   \n",
       "1                               Intermediate   \n",
       "2                               Intermediate   \n",
       "3                               Intermediate   \n",
       "4                               Intermediate   \n",
       "\n",
       "  5. My level of Statistics knowledge 6. My Familarity with GitHub  \\\n",
       "0                        Intermediate    I use GitHub occasionally   \n",
       "1                        Intermediate    I use GitHub occasionally   \n",
       "2                        Intermediate       I use GitHub regularly   \n",
       "3                        Intermediate    I use GitHub occasionally   \n",
       "4                            Beginner       I use GitHub regularly   \n",
       "\n",
       "  7. My gender 8. My Birth Year  \\\n",
       "0         Male             2000   \n",
       "1         Male             2002   \n",
       "2         Male             1997   \n",
       "3       Female        7/21/1999   \n",
       "4         Male             2000   \n",
       "\n",
       "    9. What do you enjoy doing in your leisure time?  \\\n",
       "0                  Use to do some personal projects    \n",
       "1                                    Playing Cricket   \n",
       "2  Doing courses and leveling up my knowledge in ...   \n",
       "3                                     Surfing google   \n",
       "4                             I like to study movies   \n",
       "\n",
       "   10. What do you expect to get out of this course?  \\\n",
       "0                 Data analysis with proper visuals    \n",
       "1  To get good knowledge about statistics , data ...   \n",
       "2  I would expect to learn statistics concepts wi...   \n",
       "3  Get knowledge on statistics, perform data anal...   \n",
       "4  I want to be good enough in Python by the end ...   \n",
       "\n",
       "             11. What is your long-term career goal?  \\\n",
       "0                      I want to become a developer    \n",
       "1                      Try to start my own business.   \n",
       "2  My aim is to become a Data Engineer and  Data ...   \n",
       "3           Be well suited for Data Science position   \n",
       "4  I would like see myself solving daily problems...   \n",
       "\n",
       "              12. Other courses taking this semester  \n",
       "0  HIT 664 : HEALTH IT LAW AND ETHICS , HEALTH 72...  \n",
       "1  HIT 664 - Health IT Law And Ethics  ; HIT 723 ...  \n",
       "2                              Deep Learning and LLM  \n",
       "3  This is my last semester and is the only cours...  \n",
       "4  ENMG 659 Strategic Management and ENMG 668 Pro...  "
      ]
     },
     "execution_count": 3,
     "metadata": {},
     "output_type": "execute_result"
    }
   ],
   "source": [
    "df.head()"
   ]
  },
  {
   "cell_type": "code",
   "execution_count": 4,
   "metadata": {
    "colab": {
     "base_uri": "https://localhost:8080/",
     "height": 320
    },
    "id": "VN4FJ7-caPhi",
    "outputId": "ea519884-b436-4d26-98fb-f600f2136ac2"
   },
   "outputs": [
    {
     "data": {
      "text/html": [
       "<div>\n",
       "<style scoped>\n",
       "    .dataframe tbody tr th:only-of-type {\n",
       "        vertical-align: middle;\n",
       "    }\n",
       "\n",
       "    .dataframe tbody tr th {\n",
       "        vertical-align: top;\n",
       "    }\n",
       "\n",
       "    .dataframe thead th {\n",
       "        text-align: right;\n",
       "    }\n",
       "</style>\n",
       "<table border=\"1\" class=\"dataframe\">\n",
       "  <thead>\n",
       "    <tr style=\"text-align: right;\">\n",
       "      <th></th>\n",
       "      <th>Timestamp</th>\n",
       "      <th>1. My primary educational background</th>\n",
       "      <th>2. My primary job function</th>\n",
       "      <th>3. My level of computer programing knowledge</th>\n",
       "      <th>4. My level of Python progrmming knowledge</th>\n",
       "      <th>5. My level of Statistics knowledge</th>\n",
       "      <th>6. My Familarity with GitHub</th>\n",
       "      <th>7. My gender</th>\n",
       "      <th>8. My Birth Year</th>\n",
       "      <th>9. What do you enjoy doing in your leisure time?</th>\n",
       "      <th>10. What do you expect to get out of this course?</th>\n",
       "      <th>11. What is your long-term career goal?</th>\n",
       "      <th>12. Other courses taking this semester</th>\n",
       "    </tr>\n",
       "  </thead>\n",
       "  <tbody>\n",
       "    <tr>\n",
       "      <th>19</th>\n",
       "      <td>2024/08/28 7:04:43 PM AST</td>\n",
       "      <td>STEM (Science, Technology, Engineering, Math)</td>\n",
       "      <td>Full-time Student</td>\n",
       "      <td>Intermediate</td>\n",
       "      <td>Intermediate</td>\n",
       "      <td>Intermediate</td>\n",
       "      <td>I use GitHub regularly</td>\n",
       "      <td>Male</td>\n",
       "      <td>1997</td>\n",
       "      <td>Learning new things and upgrading myself with ...</td>\n",
       "      <td>From this course, I expect to learn how to vie...</td>\n",
       "      <td>To become a Data Analyst</td>\n",
       "      <td>LLM and Deep Learning</td>\n",
       "    </tr>\n",
       "    <tr>\n",
       "      <th>20</th>\n",
       "      <td>2024/08/28 7:07:08 PM AST</td>\n",
       "      <td>STEM (Science, Technology, Engineering, Math)</td>\n",
       "      <td>Technology/engineering-oriented</td>\n",
       "      <td>Intermediate</td>\n",
       "      <td>Intermediate</td>\n",
       "      <td>Intermediate</td>\n",
       "      <td>I use GitHub occasionally</td>\n",
       "      <td>Male</td>\n",
       "      <td>1999</td>\n",
       "      <td>Sports</td>\n",
       "      <td>A good handson experience on statistics and py...</td>\n",
       "      <td>Data analyst</td>\n",
       "      <td>Capstone in Data Science | DATA 606;Special To...</td>\n",
       "    </tr>\n",
       "  </tbody>\n",
       "</table>\n",
       "</div>"
      ],
      "text/plain": [
       "                    Timestamp           1. My primary educational background  \\\n",
       "19  2024/08/28 7:04:43 PM AST  STEM (Science, Technology, Engineering, Math)   \n",
       "20  2024/08/28 7:07:08 PM AST  STEM (Science, Technology, Engineering, Math)   \n",
       "\n",
       "         2. My primary job function  \\\n",
       "19                Full-time Student   \n",
       "20  Technology/engineering-oriented   \n",
       "\n",
       "   3. My level of computer programing knowledge  \\\n",
       "19                                 Intermediate   \n",
       "20                                 Intermediate   \n",
       "\n",
       "   4. My level of Python progrmming knowledge  \\\n",
       "19                               Intermediate   \n",
       "20                               Intermediate   \n",
       "\n",
       "   5. My level of Statistics knowledge 6. My Familarity with GitHub  \\\n",
       "19                        Intermediate       I use GitHub regularly   \n",
       "20                        Intermediate    I use GitHub occasionally   \n",
       "\n",
       "   7. My gender 8. My Birth Year  \\\n",
       "19         Male             1997   \n",
       "20         Male             1999   \n",
       "\n",
       "     9. What do you enjoy doing in your leisure time?  \\\n",
       "19  Learning new things and upgrading myself with ...   \n",
       "20                                             Sports   \n",
       "\n",
       "    10. What do you expect to get out of this course?  \\\n",
       "19  From this course, I expect to learn how to vie...   \n",
       "20  A good handson experience on statistics and py...   \n",
       "\n",
       "   11. What is your long-term career goal?  \\\n",
       "19                To become a Data Analyst   \n",
       "20                            Data analyst   \n",
       "\n",
       "               12. Other courses taking this semester  \n",
       "19                              LLM and Deep Learning  \n",
       "20  Capstone in Data Science | DATA 606;Special To...  "
      ]
     },
     "execution_count": 4,
     "metadata": {},
     "output_type": "execute_result"
    }
   ],
   "source": [
    "df.tail(2)"
   ]
  },
  {
   "cell_type": "code",
   "execution_count": 5,
   "metadata": {
    "colab": {
     "base_uri": "https://localhost:8080/",
     "height": 438
    },
    "id": "CGStXMx-aU0X",
    "outputId": "aaca20c2-807d-4828-81d3-e3aa9055c003"
   },
   "outputs": [
    {
     "data": {
      "text/html": [
       "<div>\n",
       "<style scoped>\n",
       "    .dataframe tbody tr th:only-of-type {\n",
       "        vertical-align: middle;\n",
       "    }\n",
       "\n",
       "    .dataframe tbody tr th {\n",
       "        vertical-align: top;\n",
       "    }\n",
       "\n",
       "    .dataframe thead th {\n",
       "        text-align: right;\n",
       "    }\n",
       "</style>\n",
       "<table border=\"1\" class=\"dataframe\">\n",
       "  <thead>\n",
       "    <tr style=\"text-align: right;\">\n",
       "      <th></th>\n",
       "      <th>Timestamp</th>\n",
       "      <th>1. My primary educational background</th>\n",
       "      <th>2. My primary job function</th>\n",
       "      <th>3. My level of computer programing knowledge</th>\n",
       "      <th>4. My level of Python progrmming knowledge</th>\n",
       "      <th>5. My level of Statistics knowledge</th>\n",
       "      <th>6. My Familarity with GitHub</th>\n",
       "      <th>7. My gender</th>\n",
       "      <th>8. My Birth Year</th>\n",
       "      <th>9. What do you enjoy doing in your leisure time?</th>\n",
       "      <th>10. What do you expect to get out of this course?</th>\n",
       "      <th>11. What is your long-term career goal?</th>\n",
       "      <th>12. Other courses taking this semester</th>\n",
       "    </tr>\n",
       "  </thead>\n",
       "  <tbody>\n",
       "    <tr>\n",
       "      <th>15</th>\n",
       "      <td>2024/08/28 6:49:28 PM AST</td>\n",
       "      <td>STEM (Science, Technology, Engineering, Math)</td>\n",
       "      <td>Full-time Student</td>\n",
       "      <td>Intermediate</td>\n",
       "      <td>Intermediate</td>\n",
       "      <td>Intermediate</td>\n",
       "      <td>I use GitHub occasionally</td>\n",
       "      <td>Female</td>\n",
       "      <td>2000</td>\n",
       "      <td>Listening music</td>\n",
       "      <td>I want to make my knowledge like in intermedia...</td>\n",
       "      <td>I want work in google</td>\n",
       "      <td>Practical deep learning</td>\n",
       "    </tr>\n",
       "    <tr>\n",
       "      <th>8</th>\n",
       "      <td>2024/08/24 2:23:26 PM AST</td>\n",
       "      <td>STEM (Science, Technology, Engineering, Math)</td>\n",
       "      <td>Business/service-oriented</td>\n",
       "      <td>Beginner</td>\n",
       "      <td>No exposure</td>\n",
       "      <td>Intermediate</td>\n",
       "      <td>I don't use GitHub</td>\n",
       "      <td>Female</td>\n",
       "      <td>1978</td>\n",
       "      <td>Sports, reading articles on tech, science and ...</td>\n",
       "      <td>To learn pyton and proceed in data science</td>\n",
       "      <td>Continue in leadership positions in technology...</td>\n",
       "      <td>Ethical And Legal Issues in Data Science | DAT...</td>\n",
       "    </tr>\n",
       "    <tr>\n",
       "      <th>20</th>\n",
       "      <td>2024/08/28 7:07:08 PM AST</td>\n",
       "      <td>STEM (Science, Technology, Engineering, Math)</td>\n",
       "      <td>Technology/engineering-oriented</td>\n",
       "      <td>Intermediate</td>\n",
       "      <td>Intermediate</td>\n",
       "      <td>Intermediate</td>\n",
       "      <td>I use GitHub occasionally</td>\n",
       "      <td>Male</td>\n",
       "      <td>1999</td>\n",
       "      <td>Sports</td>\n",
       "      <td>A good handson experience on statistics and py...</td>\n",
       "      <td>Data analyst</td>\n",
       "      <td>Capstone in Data Science | DATA 606;Special To...</td>\n",
       "    </tr>\n",
       "  </tbody>\n",
       "</table>\n",
       "</div>"
      ],
      "text/plain": [
       "                    Timestamp           1. My primary educational background  \\\n",
       "15  2024/08/28 6:49:28 PM AST  STEM (Science, Technology, Engineering, Math)   \n",
       "8   2024/08/24 2:23:26 PM AST  STEM (Science, Technology, Engineering, Math)   \n",
       "20  2024/08/28 7:07:08 PM AST  STEM (Science, Technology, Engineering, Math)   \n",
       "\n",
       "         2. My primary job function  \\\n",
       "15                Full-time Student   \n",
       "8         Business/service-oriented   \n",
       "20  Technology/engineering-oriented   \n",
       "\n",
       "   3. My level of computer programing knowledge  \\\n",
       "15                                 Intermediate   \n",
       "8                                      Beginner   \n",
       "20                                 Intermediate   \n",
       "\n",
       "   4. My level of Python progrmming knowledge  \\\n",
       "15                               Intermediate   \n",
       "8                                 No exposure   \n",
       "20                               Intermediate   \n",
       "\n",
       "   5. My level of Statistics knowledge 6. My Familarity with GitHub  \\\n",
       "15                        Intermediate    I use GitHub occasionally   \n",
       "8                         Intermediate           I don't use GitHub   \n",
       "20                        Intermediate    I use GitHub occasionally   \n",
       "\n",
       "   7. My gender 8. My Birth Year  \\\n",
       "15       Female             2000   \n",
       "8        Female             1978   \n",
       "20         Male             1999   \n",
       "\n",
       "     9. What do you enjoy doing in your leisure time?  \\\n",
       "15                                    Listening music   \n",
       "8   Sports, reading articles on tech, science and ...   \n",
       "20                                             Sports   \n",
       "\n",
       "    10. What do you expect to get out of this course?  \\\n",
       "15  I want to make my knowledge like in intermedia...   \n",
       "8          To learn pyton and proceed in data science   \n",
       "20  A good handson experience on statistics and py...   \n",
       "\n",
       "              11. What is your long-term career goal?  \\\n",
       "15                              I want work in google   \n",
       "8   Continue in leadership positions in technology...   \n",
       "20                                       Data analyst   \n",
       "\n",
       "               12. Other courses taking this semester  \n",
       "15                           Practical deep learning   \n",
       "8   Ethical And Legal Issues in Data Science | DAT...  \n",
       "20  Capstone in Data Science | DATA 606;Special To...  "
      ]
     },
     "execution_count": 5,
     "metadata": {},
     "output_type": "execute_result"
    }
   ],
   "source": [
    "df.sample(3)"
   ]
  },
  {
   "cell_type": "markdown",
   "metadata": {
    "id": "TjrQ5ssodG3y"
   },
   "source": [
    "## Step 2 - Explore Student Age"
   ]
  },
  {
   "cell_type": "code",
   "execution_count": 6,
   "metadata": {
    "colab": {
     "base_uri": "https://localhost:8080/"
    },
    "id": "kOGI8EVMdOAR",
    "outputId": "dd55cc24-e894-454d-b20f-6c8c5de9b7cb"
   },
   "outputs": [
    {
     "data": {
      "text/plain": [
       "['2000',\n",
       " '2002',\n",
       " '1997',\n",
       " '7/21/1999',\n",
       " '2000',\n",
       " '2001',\n",
       " '2000',\n",
       " '1999',\n",
       " '1978',\n",
       " '2000',\n",
       " '1999',\n",
       " '11/17/2000',\n",
       " '1998',\n",
       " '3/1/2001',\n",
       " '2001',\n",
       " '2000',\n",
       " '2002',\n",
       " '1992',\n",
       " '12/6/2001',\n",
       " '1997',\n",
       " '1999']"
      ]
     },
     "execution_count": 6,
     "metadata": {},
     "output_type": "execute_result"
    }
   ],
   "source": [
    "yob_list = list(df[\"8. My Birth Year\"])\n",
    "yob_list"
   ]
  },
  {
   "cell_type": "code",
   "execution_count": 7,
   "metadata": {
    "colab": {
     "base_uri": "https://localhost:8080/"
    },
    "id": "ZOnS4oH4eJXX",
    "outputId": "053532f0-1e30-4362-cf80-481780f9ba1a"
   },
   "outputs": [
    {
     "data": {
      "text/plain": [
       "[]"
      ]
     },
     "execution_count": 7,
     "metadata": {},
     "output_type": "execute_result"
    }
   ],
   "source": [
    "cleansed_yob_list = []  # Empty list\n",
    "cleansed_yob_list       # the same as print(cleansed_yob)"
   ]
  },
  {
   "cell_type": "code",
   "execution_count": 8,
   "metadata": {
    "colab": {
     "base_uri": "https://localhost:8080/"
    },
    "id": "7MfyIRdMeiJW",
    "outputId": "4a0bc1c8-14b8-44cd-d2dd-834677dab6a5"
   },
   "outputs": [
    {
     "data": {
      "text/plain": [
       "['2000',\n",
       " '2002',\n",
       " '1997',\n",
       " '1999',\n",
       " '2000',\n",
       " '2001',\n",
       " '2000',\n",
       " '1999',\n",
       " '1978',\n",
       " '2000',\n",
       " '1999',\n",
       " '2000',\n",
       " '1998',\n",
       " '2001',\n",
       " '2001',\n",
       " '2000',\n",
       " '2002',\n",
       " '1992',\n",
       " '2001',\n",
       " '1997',\n",
       " '1999']"
      ]
     },
     "execution_count": 8,
     "metadata": {},
     "output_type": "execute_result"
    }
   ],
   "source": [
    "for yob in yob_list:\n",
    "    cleansed_yob = yob[-4:]\n",
    "    cleansed_yob_list.append(cleansed_yob)\n",
    "\n",
    "cleansed_yob_list"
   ]
  },
  {
   "cell_type": "code",
   "execution_count": 9,
   "metadata": {
    "colab": {
     "base_uri": "https://localhost:8080/"
    },
    "id": "jwvLHigogjb8",
    "outputId": "e4d1b282-afcc-4d95-c3c2-0126684d1173"
   },
   "outputs": [
    {
     "data": {
      "text/plain": [
       "[24,\n",
       " 22,\n",
       " 27,\n",
       " 25,\n",
       " 24,\n",
       " 23,\n",
       " 24,\n",
       " 25,\n",
       " 46,\n",
       " 24,\n",
       " 25,\n",
       " 24,\n",
       " 26,\n",
       " 23,\n",
       " 23,\n",
       " 24,\n",
       " 22,\n",
       " 32,\n",
       " 23,\n",
       " 27,\n",
       " 25]"
      ]
     },
     "execution_count": 9,
     "metadata": {},
     "output_type": "execute_result"
    }
   ],
   "source": [
    "age_list = []\n",
    "\n",
    "for yob in cleansed_yob_list:\n",
    "    age = 2024 - int(yob)\n",
    "    age_list.append(age)\n",
    "\n",
    "age_list"
   ]
  },
  {
   "cell_type": "code",
   "execution_count": 10,
   "metadata": {
    "colab": {
     "base_uri": "https://localhost:8080/"
    },
    "id": "s_1SOG31lxxO",
    "outputId": "25687479-4a7a-4f32-d042-70e007dbcefd"
   },
   "outputs": [
    {
     "data": {
      "text/plain": [
       "22"
      ]
     },
     "execution_count": 10,
     "metadata": {},
     "output_type": "execute_result"
    }
   ],
   "source": [
    "min(age_list)"
   ]
  },
  {
   "cell_type": "code",
   "execution_count": 11,
   "metadata": {
    "colab": {
     "base_uri": "https://localhost:8080/"
    },
    "id": "yOZVnLvlmPj6",
    "outputId": "a4aaf922-06fc-4d45-81a7-719f6ade7742"
   },
   "outputs": [
    {
     "data": {
      "text/plain": [
       "46"
      ]
     },
     "execution_count": 11,
     "metadata": {},
     "output_type": "execute_result"
    }
   ],
   "source": [
    "max(age_list)"
   ]
  },
  {
   "cell_type": "code",
   "execution_count": 12,
   "metadata": {
    "colab": {
     "base_uri": "https://localhost:8080/"
    },
    "id": "2jcN-JPKnX4W",
    "outputId": "f1974d7a-2180-48d5-8df1-f74008257022"
   },
   "outputs": [
    {
     "data": {
      "text/plain": [
       "538"
      ]
     },
     "execution_count": 12,
     "metadata": {},
     "output_type": "execute_result"
    }
   ],
   "source": [
    "total_age = 0\n",
    "\n",
    "for age in age_list:\n",
    "    total_age = total_age + age\n",
    "\n",
    "total_age"
   ]
  },
  {
   "cell_type": "code",
   "execution_count": 13,
   "metadata": {
    "colab": {
     "base_uri": "https://localhost:8080/"
    },
    "id": "g_mZ6XoIn6ZV",
    "outputId": "b691638d-874b-4eed-8de0-8673a95a1a55"
   },
   "outputs": [
    {
     "data": {
      "text/plain": [
       "26"
      ]
     },
     "execution_count": 13,
     "metadata": {},
     "output_type": "execute_result"
    }
   ],
   "source": [
    "average = total_age / len(age_list)\n",
    "\n",
    "round(average)"
   ]
  },
  {
   "cell_type": "code",
   "execution_count": 14,
   "metadata": {
    "colab": {
     "base_uri": "https://localhost:8080/"
    },
    "id": "aCWjVflFozdN",
    "outputId": "c80bcb37-f0be-46b7-cd5f-d3578f862d11"
   },
   "outputs": [
    {
     "name": "stdout",
     "output_type": "stream",
     "text": [
      "Age 22 is skipped\n",
      "Age 46 is skipped\n",
      "Age 22 is skipped\n",
      "Total age is 448\n",
      "Average is 21\n"
     ]
    }
   ],
   "source": [
    "total_age = 0\n",
    "\n",
    "for age in age_list:\n",
    "    if age >= 35 or age <= 22:\n",
    "        print(\"Age\", age, \"is skipped\")\n",
    "    else:\n",
    "       total_age = total_age + age\n",
    "\n",
    "print(\"Total age is\", total_age)\n",
    "\n",
    "average = round(total_age / len(age_list))\n",
    "\n",
    "print(\"Average is\", average)"
   ]
  },
  {
   "cell_type": "code",
   "execution_count": 15,
   "metadata": {
    "colab": {
     "base_uri": "https://localhost:8080/"
    },
    "id": "k9Gym6BspNbT",
    "outputId": "295ec47d-f91d-4ac8-ef82-c643e704a7e5"
   },
   "outputs": [
    {
     "name": "stdout",
     "output_type": "stream",
     "text": [
      "Age 22 is skipped\n",
      "Age 46 is skipped\n",
      "Age 22 is skipped\n",
      "Total age is 538\n",
      "Average is 26\n"
     ]
    }
   ],
   "source": [
    "total_age = 0\n",
    "\n",
    "for age in age_list:\n",
    "    if age >= 35 or age <= 22:\n",
    "        print(\"Age\", age, \"is skipped\")\n",
    "#        continue\n",
    "\n",
    "    total_age = total_age + age   # the age out of range was not skipped without the \"continue\"\n",
    "\n",
    "print(\"Total age is\", total_age)\n",
    "\n",
    "average = round(total_age / len(age_list))\n",
    "\n",
    "print(\"Average is\", average)"
   ]
  },
  {
   "cell_type": "markdown",
   "metadata": {
    "id": "_MdrdfqErhCn"
   },
   "source": [
    "## Step 3 - Explore Educational Background\n",
    "\n",
    "Compute the distribution of student edu background\n"
   ]
  },
  {
   "cell_type": "code",
   "execution_count": 16,
   "metadata": {
    "colab": {
     "base_uri": "https://localhost:8080/"
    },
    "id": "S-HBobIHrmSX",
    "outputId": "ce3c701e-9a13-49aa-ec01-8c6ff329b89d"
   },
   "outputs": [
    {
     "data": {
      "text/plain": [
       "['STEM (Science, Technology, Engineering, Math)',\n",
       " 'STEM (Science, Technology, Engineering, Math)',\n",
       " 'STEM (Science, Technology, Engineering, Math)',\n",
       " 'STEM (Science, Technology, Engineering, Math)',\n",
       " 'STEM (Science, Technology, Engineering, Math)',\n",
       " 'STEM (Science, Technology, Engineering, Math)',\n",
       " 'STEM (Science, Technology, Engineering, Math)',\n",
       " 'STEM (Science, Technology, Engineering, Math)',\n",
       " 'STEM (Science, Technology, Engineering, Math)',\n",
       " 'STEM (Science, Technology, Engineering, Math)',\n",
       " 'STEM (Science, Technology, Engineering, Math)',\n",
       " 'STEM (Science, Technology, Engineering, Math)',\n",
       " 'Social Science (History, Philosophy, Education, etc. )',\n",
       " 'STEM (Science, Technology, Engineering, Math)',\n",
       " 'STEM (Science, Technology, Engineering, Math)',\n",
       " 'STEM (Science, Technology, Engineering, Math)',\n",
       " 'STEM (Science, Technology, Engineering, Math)',\n",
       " 'Criminal Justice with some Software Engineering courses',\n",
       " 'STEM (Science, Technology, Engineering, Math)',\n",
       " 'STEM (Science, Technology, Engineering, Math)',\n",
       " 'STEM (Science, Technology, Engineering, Math)']"
      ]
     },
     "execution_count": 16,
     "metadata": {},
     "output_type": "execute_result"
    }
   ],
   "source": [
    "edu_list = list(df[\"1. My primary educational background\"])\n",
    "\n",
    "edu_list"
   ]
  },
  {
   "cell_type": "code",
   "execution_count": 17,
   "metadata": {
    "id": "G-VIRcHWtQ2q"
   },
   "outputs": [
    {
     "data": {
      "text/plain": [
       "21"
      ]
     },
     "execution_count": 17,
     "metadata": {},
     "output_type": "execute_result"
    }
   ],
   "source": [
    "len(edu_list)"
   ]
  },
  {
   "cell_type": "code",
   "execution_count": 18,
   "metadata": {},
   "outputs": [
    {
     "data": {
      "text/plain": [
       "['STEM (Science, Technology, Engineering, Math)',\n",
       " 'Social Science (History, Philosophy, Education, etc. )',\n",
       " 'Criminal Justice with some Software Engineering courses']"
      ]
     },
     "execution_count": 18,
     "metadata": {},
     "output_type": "execute_result"
    }
   ],
   "source": [
    "cleasned_edu_list = list(df['1. My primary educational background'].unique())\n",
    "cleasned_edu_list"
   ]
  },
  {
   "cell_type": "code",
   "execution_count": 19,
   "metadata": {},
   "outputs": [
    {
     "data": {
      "text/plain": [
       "[19, 1, 1]"
      ]
     },
     "execution_count": 19,
     "metadata": {},
     "output_type": "execute_result"
    }
   ],
   "source": [
    "count_edu_list = [0,0,0]\n",
    "for i in range(0, len(cleasned_edu_list)):\n",
    "    for edu in edu_list:\n",
    "        if cleasned_edu_list[i] == edu:\n",
    "            count_edu_list[i] = count_edu_list[i] +1\n",
    "\n",
    "count_edu_list"
   ]
  },
  {
   "cell_type": "code",
   "execution_count": 20,
   "metadata": {},
   "outputs": [
    {
     "name": "stdout",
     "output_type": "stream",
     "text": [
      "Number of Students with Primary Education Background as STEM (Science, Technology, Engineering, Math) is 19\n",
      "Number of Students with Primary Education Background as Social Science (History, Philosophy, Education, etc. ) is 1\n",
      "Number of Students with Primary Education Background as Criminal Justice with some Software Engineering courses is 1\n"
     ]
    }
   ],
   "source": [
    "for i in range(0, len(cleasned_edu_list)):\n",
    "    print('Number of Students with Primary Education Background as', cleasned_edu_list[i], 'is', count_edu_list[i])"
   ]
  },
  {
   "cell_type": "code",
   "execution_count": 21,
   "metadata": {},
   "outputs": [
    {
     "name": "stdout",
     "output_type": "stream",
     "text": [
      "Percentage of Students with Primary Education Background as STEM (Science, Technology, Engineering, Math) is 0.9047619047619048\n",
      "Percentage of Students with Primary Education Background as Social Science (History, Philosophy, Education, etc. ) is 0.047619047619047616\n",
      "Percentage of Students with Primary Education Background as Criminal Justice with some Software Engineering courses is 0.047619047619047616\n"
     ]
    }
   ],
   "source": [
    "for i in range(0, len(cleasned_edu_list)):\n",
    "    print('Percentage of Students with Primary Education Background as', cleasned_edu_list[i], 'is', (count_edu_list[i]/ len(edu_list)))"
   ]
  },
  {
   "cell_type": "markdown",
   "metadata": {
    "id": "69c4wVXEsTAz"
   },
   "source": [
    "## Step 4 - Explore Job Function\n",
    "\n",
    "Compute the distribution of student job function. Summary."
   ]
  },
  {
   "cell_type": "code",
   "execution_count": 22,
   "metadata": {
    "colab": {
     "base_uri": "https://localhost:8080/"
    },
    "id": "VEQbQZyusNZI",
    "outputId": "7114af56-9182-42f5-9e0b-02f4534d28b3"
   },
   "outputs": [
    {
     "data": {
      "text/plain": [
       "['Full-time Student',\n",
       " 'Full-time Student',\n",
       " 'Full-time Student',\n",
       " 'Technology/engineering-oriented',\n",
       " 'Full-time Student',\n",
       " 'Full-time Student',\n",
       " 'Full-time Student',\n",
       " 'Full-time Student',\n",
       " 'Business/service-oriented',\n",
       " 'Full-time Student',\n",
       " 'Full-time Student',\n",
       " 'Full-time Student',\n",
       " 'Business/service-oriented',\n",
       " 'Full-time Student',\n",
       " 'Full-time Student',\n",
       " 'Full-time Student',\n",
       " 'Full-time Student',\n",
       " 'Full-time Student',\n",
       " 'Full-time Student',\n",
       " 'Full-time Student',\n",
       " 'Technology/engineering-oriented']"
      ]
     },
     "execution_count": 22,
     "metadata": {},
     "output_type": "execute_result"
    }
   ],
   "source": [
    "job_list = list(df[\"2. My primary job function\"])\n",
    "\n",
    "job_list"
   ]
  },
  {
   "cell_type": "code",
   "execution_count": 23,
   "metadata": {
    "id": "Lp57b1eqtLhw"
   },
   "outputs": [
    {
     "data": {
      "text/plain": [
       "21"
      ]
     },
     "execution_count": 23,
     "metadata": {},
     "output_type": "execute_result"
    }
   ],
   "source": [
    "len(job_list)"
   ]
  },
  {
   "cell_type": "code",
   "execution_count": 24,
   "metadata": {},
   "outputs": [
    {
     "data": {
      "text/plain": [
       "['Full-time Student',\n",
       " 'Technology/engineering-oriented',\n",
       " 'Business/service-oriented']"
      ]
     },
     "execution_count": 24,
     "metadata": {},
     "output_type": "execute_result"
    }
   ],
   "source": [
    "cleasned_job_list = list(df['2. My primary job function'].unique())\n",
    "cleasned_job_list"
   ]
  },
  {
   "cell_type": "code",
   "execution_count": 25,
   "metadata": {},
   "outputs": [
    {
     "data": {
      "text/plain": [
       "[0, 0, 0]"
      ]
     },
     "execution_count": 25,
     "metadata": {},
     "output_type": "execute_result"
    }
   ],
   "source": [
    "count_job_list = [0,0,0]\n",
    "for i in range(0, len(cleasned_job_list)):\n",
    "    for job in edu_list:\n",
    "        if cleasned_job_list[i] == job:\n",
    "            count_job_list[i] = count_job_list[i] +1\n",
    "\n",
    "count_job_list"
   ]
  },
  {
   "cell_type": "code",
   "execution_count": 26,
   "metadata": {},
   "outputs": [
    {
     "name": "stdout",
     "output_type": "stream",
     "text": [
      "Number of Students with Primary Job Function as Full-time Student is 0\n",
      "Number of Students with Primary Job Function as Technology/engineering-oriented is 0\n",
      "Number of Students with Primary Job Function as Business/service-oriented is 0\n"
     ]
    }
   ],
   "source": [
    "for i in range(0, len(cleasned_job_list)):\n",
    "    print('Number of Students with Primary Job Function as', cleasned_job_list[i], 'is', count_job_list[i])"
   ]
  },
  {
   "cell_type": "code",
   "execution_count": 27,
   "metadata": {},
   "outputs": [
    {
     "name": "stdout",
     "output_type": "stream",
     "text": [
      "Percentage of Students with Primary Job Function as Full-time Student is 0.0\n",
      "Percentage of Students with Primary Job Function as Technology/engineering-oriented is 0.0\n",
      "Percentage of Students with Primary Job Function as Business/service-oriented is 0.0\n"
     ]
    }
   ],
   "source": [
    "for i in range(0, len(cleasned_job_list)):\n",
    "    print('Percentage of Students with Primary Job Function as', cleasned_job_list[i], 'is', (count_job_list[i]/ len(job_list)))"
   ]
  },
  {
   "cell_type": "markdown",
   "metadata": {
    "id": "GbaPBsxKtEjo"
   },
   "source": [
    "## Step 5 - Anything you re interested to find out"
   ]
  },
  {
   "cell_type": "code",
   "execution_count": 32,
   "metadata": {},
   "outputs": [
    {
     "data": {
      "text/plain": [
       "['I use GitHub occasionally',\n",
       " 'I use GitHub occasionally',\n",
       " 'I use GitHub regularly',\n",
       " 'I use GitHub occasionally',\n",
       " 'I use GitHub regularly',\n",
       " 'I use GitHub occasionally',\n",
       " 'I use GitHub occasionally',\n",
       " 'I use GitHub occasionally',\n",
       " \"I don't use GitHub\",\n",
       " 'I use GitHub regularly',\n",
       " 'I use GitHub occasionally',\n",
       " 'I use GitHub occasionally',\n",
       " \"I don't use GitHub\",\n",
       " 'I use GitHub occasionally',\n",
       " \"I don't use GitHub\",\n",
       " 'I use GitHub occasionally',\n",
       " 'I use GitHub occasionally',\n",
       " \"I don't use GitHub\",\n",
       " 'I use GitHub occasionally',\n",
       " 'I use GitHub regularly',\n",
       " 'I use GitHub occasionally']"
      ]
     },
     "execution_count": 32,
     "metadata": {},
     "output_type": "execute_result"
    }
   ],
   "source": [
    "git_usage = list(df[\"6. My Familarity with GitHub\"])\n",
    "\n",
    "git_usage"
   ]
  },
  {
   "cell_type": "code",
   "execution_count": 33,
   "metadata": {},
   "outputs": [
    {
     "data": {
      "text/plain": [
       "['I use GitHub occasionally', 'I use GitHub regularly', \"I don't use GitHub\"]"
      ]
     },
     "execution_count": 33,
     "metadata": {},
     "output_type": "execute_result"
    }
   ],
   "source": [
    "cleasned_git_info = list(df['6. My Familarity with GitHub'].unique())\n",
    "cleasned_git_info"
   ]
  },
  {
   "cell_type": "code",
   "execution_count": 34,
   "metadata": {},
   "outputs": [
    {
     "data": {
      "text/plain": [
       "[13, 4, 4]"
      ]
     },
     "execution_count": 34,
     "metadata": {},
     "output_type": "execute_result"
    }
   ],
   "source": [
    "count_git_list = [0,0,0]\n",
    "for i in range(0, len(cleasned_git_info)):\n",
    "    for edu in git_usage:\n",
    "        if cleasned_git_info[i] == edu:\n",
    "            count_git_list[i] = count_git_list[i] +1\n",
    "\n",
    "count_git_list"
   ]
  },
  {
   "cell_type": "code",
   "execution_count": 35,
   "metadata": {},
   "outputs": [
    {
     "name": "stdout",
     "output_type": "stream",
     "text": [
      "Number of Students with using git are 17\n",
      "Number of Students with out using git are 4\n"
     ]
    }
   ],
   "source": [
    "print('Number of Students with using git are', count_git_list[0] + count_git_list[1])\n",
    "print('Number of Students with out using git are', count_git_list[2])"
   ]
  },
  {
   "cell_type": "code",
   "execution_count": 37,
   "metadata": {},
   "outputs": [
    {
     "name": "stdout",
     "output_type": "stream",
     "text": [
      "Percentage of Students with using git are 0.8095238095238095\n",
      "Percentage of Students with out using git are 0.19047619047619047\n"
     ]
    }
   ],
   "source": [
    "print('Percentage of Students with using git are', (count_git_list[0] + count_git_list[1]) / len(git_usage))\n",
    "print('Percentage of Students with out using git are', count_git_list[2]/ len(git_usage))"
   ]
  }
 ],
 "metadata": {
  "colab": {
   "authorship_tag": "ABX9TyO569QWl5tl+p4088WYdp0E",
   "include_colab_link": true,
   "provenance": []
  },
  "kernelspec": {
   "display_name": "Python 3 (ipykernel)",
   "language": "python",
   "name": "python3"
  },
  "language_info": {
   "codemirror_mode": {
    "name": "ipython",
    "version": 3
   },
   "file_extension": ".py",
   "mimetype": "text/x-python",
   "name": "python",
   "nbconvert_exporter": "python",
   "pygments_lexer": "ipython3",
   "version": "3.12.5"
  }
 },
 "nbformat": 4,
 "nbformat_minor": 4
}
